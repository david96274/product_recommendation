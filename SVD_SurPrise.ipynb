{
 "cells": [
  {
   "cell_type": "code",
   "execution_count": 1,
   "id": "c3562795-f8b8-4471-91cc-ac1df2940e3a",
   "metadata": {},
   "outputs": [
    {
     "name": "stdout",
     "output_type": "stream",
     "text": [
<<<<<<< HEAD
      "Memory used: 49.2%\n",
      "Available memory: 8.57 GB\n"
=======
      "Memory used: 51.5%\n",
      "Available memory: 8.18 GB\n"
>>>>>>> 0732a8f415981ca32147f8578562066b6f1ebc88
     ]
    }
   ],
   "source": [
    "import gc  \n",
    "gc.collect()  # Giải phóng bộ nhớ\n",
    "import psutil\n",
    "print(f\"Memory used: {psutil.virtual_memory().percent}%\")\n",
    "print(f\"Available memory: {psutil.virtual_memory().available / 1e9:.2f} GB\")"
   ]
  },
  {
   "cell_type": "code",
<<<<<<< HEAD
   "execution_count": 2,
=======
   "execution_count": 16,
>>>>>>> 0732a8f415981ca32147f8578562066b6f1ebc88
   "id": "57a936f5-75d4-4207-8fba-fc36df137cb5",
   "metadata": {},
   "outputs": [],
   "source": [
    "import pandas as pd\n",
    "import numpy as np\n",
    "import matplotlib.pyplot as plt\n",
    "import seaborn as sns\n",
    "import pickle"
   ]
  },
  {
   "cell_type": "code",
   "execution_count": 3,
   "id": "d6eecc87-04f7-4554-ad37-0a0f564bfe34",
   "metadata": {},
   "outputs": [
    {
     "name": "stdout",
     "output_type": "stream",
     "text": [
      "Tổng số sản phẩm: 1024482\n",
      "Tổng số người dùng duy nhất: 650636\n"
     ]
    }
   ],
   "source": [
    "# Đọc dữ liệu rating\n",
    "df = pd.read_csv('Products_ThoiTrangNam_rating_raw.csv', sep='\\t')\n",
    "print(\"Tổng số sản phẩm:\", len(df['product_id']))\n",
    "print(\"Tổng số người dùng duy nhất:\", len(df['user_id'].unique()))"
   ]
  },
  {
   "cell_type": "code",
   "execution_count": 4,
   "id": "7362d07e-f8af-48b3-b3d4-a7a1f4ee25d6",
   "metadata": {},
   "outputs": [
    {
     "name": "stdout",
     "output_type": "stream",
     "text": [
      "Số dòng bị thiếu: 0\n",
      "Số dòng trùng sau khi xử lý: 0\n"
     ]
    }
   ],
   "source": [
    "# Xử lý dữ liệu thiếu và trùng\n",
    "print(\"Số dòng bị thiếu:\", df.isna().sum().sum())\n",
    "df = df.drop_duplicates()\n",
    "print(\"Số dòng trùng sau khi xử lý:\", df.duplicated().sum())"
   ]
  },
  {
   "cell_type": "code",
   "execution_count": 5,
   "id": "e11145ae-e5f1-4614-a7b2-4b0c86257f9c",
   "metadata": {},
   "outputs": [],
   "source": [
    "# Lấy sample\n",
    "sample_df = df.sample(n=60000, random_state=42)"
   ]
  },
  {
   "cell_type": "code",
   "execution_count": 6,
   "id": "4e7f2291-66b4-4648-9405-f96fc0bb1258",
   "metadata": {},
   "outputs": [],
   "source": [
    "# Huấn luyện SVD\n",
    "from surprise import SVD, Dataset, Reader\n",
    "from surprise.model_selection.validation import cross_validate"
   ]
  },
  {
   "cell_type": "code",
   "execution_count": 7,
   "id": "34f1c91c-3401-41de-9ca6-e178304bba0c",
   "metadata": {},
   "outputs": [
    {
     "name": "stdout",
     "output_type": "stream",
     "text": [
      "Evaluating RMSE, MAE of algorithm SVD on 5 split(s).\n",
      "\n",
      "                  Fold 1  Fold 2  Fold 3  Fold 4  Fold 5  Mean    Std     \n",
<<<<<<< HEAD
      "RMSE (testset)    0.9473  0.9374  0.9410  0.9574  0.9400  0.9446  0.0072  \n",
      "MAE (testset)     0.6806  0.6714  0.6782  0.6847  0.6796  0.6789  0.0043  \n",
      "Fit time          1.78    1.94    2.11    2.09    2.01    1.98    0.12    \n",
      "Test time         0.19    0.17    0.19    0.16    0.20    0.18    0.01    \n"
=======
      "RMSE (testset)    0.9466  0.9411  0.9402  0.9541  0.9353  0.9435  0.0064  \n",
      "MAE (testset)     0.6776  0.6781  0.6773  0.6822  0.6755  0.6781  0.0022  \n",
      "Fit time          1.92    1.90    2.07    2.07    2.07    2.01    0.08    \n",
      "Test time         0.22    0.19    0.18    0.17    0.18    0.19    0.02    \n"
>>>>>>> 0732a8f415981ca32147f8578562066b6f1ebc88
     ]
    }
   ],
   "source": [
    "reader = Reader()\n",
    "data = Dataset.load_from_df(sample_df[['user_id', 'product_id', 'rating']], reader)\n",
    "algorithm = SVD()\n",
    "results = cross_validate(algorithm, data, measures=['RMSE', 'MAE'], cv=5, verbose=True)"
   ]
  },
  {
   "cell_type": "code",
   "execution_count": 8,
   "id": "9145da76-0a8f-47a8-860b-de7d84ee2476",
   "metadata": {},
   "outputs": [
    {
     "data": {
      "text/plain": [
<<<<<<< HEAD
       "<surprise.prediction_algorithms.matrix_factorization.SVD at 0x2040dad7af0>"
=======
       "<surprise.prediction_algorithms.matrix_factorization.SVD at 0x1cbb1e91ff0>"
>>>>>>> 0732a8f415981ca32147f8578562066b6f1ebc88
      ]
     },
     "execution_count": 8,
     "metadata": {},
     "output_type": "execute_result"
    }
   ],
   "source": [
    "trainset = data.build_full_trainset()\n",
    "algorithm.fit(trainset)"
   ]
  },
  {
   "cell_type": "code",
   "execution_count": 9,
   "id": "913760ac-323e-4707-bd13-cdeefe71fd38",
   "metadata": {},
   "outputs": [],
   "source": [
    "# Gợi ý sản phẩm cho user cụ thể\n",
    "userId = 199"
   ]
  },
  {
   "cell_type": "code",
   "execution_count": 10,
   "id": "a801649c-ed3f-414a-8fdf-21dd14a37e4e",
   "metadata": {},
   "outputs": [
    {
     "name": "stdout",
     "output_type": "stream",
     "text": [
      "Sản phẩm user đã đánh giá >= 3:\n",
      "            user_id               user  rating\n",
      "product_id                                    \n",
      "17773           199  Người dùng Shopee       3\n",
      "11326           199  Người dùng Shopee       3\n",
      "1388            199  Người dùng Shopee       4\n",
      "21338           199  Người dùng Shopee       5\n",
      "251366          199  Người dùng Shopee       5\n",
      "...             ...                ...     ...\n",
      "251064          199  Người dùng Shopee       5\n",
      "21196           199  Người dùng Shopee       3\n",
      "251447          199  Người dùng Shopee       5\n",
      "2519            199  Người dùng Shopee       3\n",
      "2294            199  Người dùng Shopee       5\n",
      "\n",
      "[655 rows x 3 columns]\n"
     ]
    }
   ],
   "source": [
    "# Các sản phẩm đã đánh giá >= 3\n",
    "df1_select = sample_df[(sample_df['user_id'] == userId) & (sample_df['rating'] >=3)]\n",
    "df1_select = df1_select.set_index('product_id')\n",
    "print(\"Sản phẩm user đã đánh giá >= 3:\")\n",
    "print(df1_select)"
   ]
  },
  {
   "cell_type": "code",
   "execution_count": 11,
   "id": "fd44e785-0025-4ac7-9d7d-37a845d590ae",
   "metadata": {},
   "outputs": [
    {
     "name": "stdout",
     "output_type": "stream",
     "text": [
      "Top sản phẩm gợi ý:\n",
<<<<<<< HEAD
      "        product_id  EstimateScore\n",
      "762082       15424            5.0\n",
      "248094       18692            5.0\n",
      "986457       17575            5.0\n",
      "818781       14466            5.0\n",
      "371922       23253            5.0\n"
=======
      "         product_id  EstimateScore\n",
      "37070         20270            5.0\n",
      "343450       231593            5.0\n",
      "146887        21179            5.0\n",
      "336230       231422            5.0\n",
      "1022445      171070            5.0\n"
>>>>>>> 0732a8f415981ca32147f8578562066b6f1ebc88
     ]
    }
   ],
   "source": [
    "# Tính Estimate Score cho tất cả sản phẩm\n",
    "df_score = sample_df[[\"product_id\"]].copy()\n",
    "df_score['EstimateScore'] = df_score['product_id'].apply(lambda x: algorithm.predict(userId, x).est)\n",
    "df_score = df_score.sort_values(by=['EstimateScore'], ascending=False)\n",
    "df_score = df_score.drop_duplicates()\n",
    "print(\"Top sản phẩm gợi ý:\")\n",
    "print(df_score.head())"
   ]
  },
  {
   "cell_type": "code",
   "execution_count": 12,
   "id": "de91cab1-a5b0-4a8a-8f7c-16e98ad4338b",
   "metadata": {},
   "outputs": [],
   "source": [
    "# Đọc file sản phẩm để lấy tên\n",
    "df_products = pd.read_csv(\"Products_ThoiTrangNam_raw.csv\")\n",
    "df_products = df_products[[\"product_id\", \"product_name\"]].drop_duplicates()"
   ]
  },
  {
   "cell_type": "code",
   "execution_count": 13,
   "id": "2c3c1540-fa0c-455a-a2c2-34c8f4369c79",
   "metadata": {},
   "outputs": [],
   "source": [
    "# Gộp tên sản phẩm vào bảng gợi ý\n",
    "recommendations = df_score.merge(df_products, on=\"product_id\", how=\"left\")\n",
    "recommendations = recommendations[recommendations[\"EstimateScore\"] >= 3]"
   ]
  },
  {
   "cell_type": "code",
   "execution_count": 14,
   "id": "e51e5520-57f3-463f-8221-d0d00dbb6b89",
   "metadata": {},
   "outputs": [
    {
     "name": "stdout",
     "output_type": "stream",
     "text": [
      "Top 5 gợi ý kèm tên sản phẩm:\n",
      "   product_id  EstimateScore  \\\n",
<<<<<<< HEAD
      "0       15424            5.0   \n",
      "1       18692            5.0   \n",
      "2       17575            5.0   \n",
      "3       14466            5.0   \n",
      "4       23253            5.0   \n",
      "\n",
      "                                        product_name  \n",
      "0      Quần Short Đũi nam- quần đũi ngố nam siêu mát  \n",
      "1  Áo phông Oversize Gravity, Áo cộc tay Unisex J...  \n",
      "2  Tất Nam Cổ Ngắn TLN002 - SC Perky Outfit - Thấ...  \n",
      "3  Quần jean nam xanh trơn rách gối chất bò cao c...  \n",
      "4  Váy đũi trễ vai - set đồ đôi đi biển hoạ tiết ...  \n"
=======
      "0       20270            5.0   \n",
      "1      231593            5.0   \n",
      "2       21179            5.0   \n",
      "3      231422            5.0   \n",
      "4      171070            5.0   \n",
      "\n",
      "                                        product_name  \n",
      "0  Áo Khoác Bomber Jacket Varsity Cardigan - Áo ...  \n",
      "1                            Áo Thể thao nam cực đẹp  \n",
      "2  Áo gió 2 mặt PMAX 2 lớp mặc cho cả nam nữ chốn...  \n",
      "3       Video thật - Bộ thể thao HB CỔ TRÒN NAM VNXK  \n",
      "4  Combo 3 đôi tất khử mùi,vớ cổ ngắn nam nữ 100%...  \n"
>>>>>>> 0732a8f415981ca32147f8578562066b6f1ebc88
     ]
    }
   ],
   "source": [
    "# Hiển thị top 5 sản phẩm được gợi ý kèm tên\n",
    "print(\"Top 5 gợi ý kèm tên sản phẩm:\")\n",
    "print(recommendations.head(5))"
   ]
  },
  {
   "cell_type": "code",
<<<<<<< HEAD
   "execution_count": 15,
=======
   "execution_count": 17,
>>>>>>> 0732a8f415981ca32147f8578562066b6f1ebc88
   "id": "3b3072a1-4d7f-4852-a1d7-6406db14e25a",
   "metadata": {},
   "outputs": [],
   "source": [
    "# Lưu mô hình\n",
    "with open(\"svd_model.pkl\", \"wb\") as f:\n",
    "    pickle.dump(algorithm, f)\n",
    "\n",
    "# Lưu sample_df\n",
    "sample_df.to_pickle(\"sample_df.pkl\")\n",
    "\n",
    "# Lưu bảng tên sản phẩm\n",
    "df_products.to_pickle(\"products_name_df.pkl\")"
   ]
  },
  {
   "cell_type": "code",
   "execution_count": null,
   "id": "8b6e076b-4172-4ff5-a5d0-075b336ed041",
   "metadata": {},
   "outputs": [],
   "source": []
  }
 ],
 "metadata": {
  "kernelspec": {
   "display_name": "Python 3 (ipykernel)",
   "language": "python",
   "name": "python3"
  },
  "language_info": {
   "codemirror_mode": {
    "name": "ipython",
    "version": 3
   },
   "file_extension": ".py",
   "mimetype": "text/x-python",
   "name": "python",
   "nbconvert_exporter": "python",
   "pygments_lexer": "ipython3",
   "version": "3.10.0"
  }
 },
 "nbformat": 4,
 "nbformat_minor": 5
}
